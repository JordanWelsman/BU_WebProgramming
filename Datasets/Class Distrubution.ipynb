{
 "cells": [
  {
   "cell_type": "code",
   "execution_count": 6,
   "id": "9f7562be",
   "metadata": {},
   "outputs": [
    {
     "data": {
      "text/html": [
       "<div>\n",
       "<style scoped>\n",
       "    .dataframe tbody tr th:only-of-type {\n",
       "        vertical-align: middle;\n",
       "    }\n",
       "\n",
       "    .dataframe tbody tr th {\n",
       "        vertical-align: top;\n",
       "    }\n",
       "\n",
       "    .dataframe thead th {\n",
       "        text-align: right;\n",
       "    }\n",
       "</style>\n",
       "<table border=\"1\" class=\"dataframe\">\n",
       "  <thead>\n",
       "    <tr style=\"text-align: right;\">\n",
       "      <th></th>\n",
       "      <th>id</th>\n",
       "      <th>trackingnumber</th>\n",
       "      <th>status</th>\n",
       "      <th>name</th>\n",
       "      <th>country</th>\n",
       "      <th>city</th>\n",
       "      <th>destination</th>\n",
       "      <th>postcode</th>\n",
       "    </tr>\n",
       "  </thead>\n",
       "  <tbody>\n",
       "    <tr>\n",
       "      <th>0</th>\n",
       "      <td>1</td>\n",
       "      <td>XE374215572US</td>\n",
       "      <td>P4</td>\n",
       "      <td>Edeline Rittmeier</td>\n",
       "      <td>US</td>\n",
       "      <td>Fairbanks</td>\n",
       "      <td>39193 La Follette Way</td>\n",
       "      <td>99709</td>\n",
       "    </tr>\n",
       "    <tr>\n",
       "      <th>1</th>\n",
       "      <td>2</td>\n",
       "      <td>XA595353881DT</td>\n",
       "      <td>C2</td>\n",
       "      <td>Fedora Defond</td>\n",
       "      <td>RS</td>\n",
       "      <td>Banatski Despotovac</td>\n",
       "      <td>756 David Court</td>\n",
       "      <td>NaN</td>\n",
       "    </tr>\n",
       "    <tr>\n",
       "      <th>2</th>\n",
       "      <td>3</td>\n",
       "      <td>ZL473776243BA</td>\n",
       "      <td>D3</td>\n",
       "      <td>Chrysler Bosworth</td>\n",
       "      <td>CN</td>\n",
       "      <td>Gongji</td>\n",
       "      <td>8 Dawn Terrace</td>\n",
       "      <td>NaN</td>\n",
       "    </tr>\n",
       "    <tr>\n",
       "      <th>3</th>\n",
       "      <td>4</td>\n",
       "      <td>KV101113028NE</td>\n",
       "      <td>P3</td>\n",
       "      <td>Emilia Mc Ilory</td>\n",
       "      <td>RU</td>\n",
       "      <td>Krivyanskaya</td>\n",
       "      <td>149 Moland Crossing</td>\n",
       "      <td>347686</td>\n",
       "    </tr>\n",
       "    <tr>\n",
       "      <th>4</th>\n",
       "      <td>5</td>\n",
       "      <td>JM450915299HT</td>\n",
       "      <td>P3</td>\n",
       "      <td>Meier McGruar</td>\n",
       "      <td>VE</td>\n",
       "      <td>Biscucuy</td>\n",
       "      <td>47336 Lakeland Junction</td>\n",
       "      <td>NaN</td>\n",
       "    </tr>\n",
       "  </tbody>\n",
       "</table>\n",
       "</div>"
      ],
      "text/plain": [
       "   id trackingnumber status               name country                 city  \\\n",
       "0   1  XE374215572US     P4  Edeline Rittmeier      US            Fairbanks   \n",
       "1   2  XA595353881DT     C2      Fedora Defond      RS  Banatski Despotovac   \n",
       "2   3  ZL473776243BA     D3  Chrysler Bosworth      CN               Gongji   \n",
       "3   4  KV101113028NE     P3    Emilia Mc Ilory      RU         Krivyanskaya   \n",
       "4   5  JM450915299HT     P3      Meier McGruar      VE             Biscucuy   \n",
       "\n",
       "               destination postcode  \n",
       "0    39193 La Follette Way    99709  \n",
       "1          756 David Court      NaN  \n",
       "2           8 Dawn Terrace      NaN  \n",
       "3      149 Moland Crossing   347686  \n",
       "4  47336 Lakeland Junction      NaN  "
      ]
     },
     "execution_count": 6,
     "metadata": {},
     "output_type": "execute_result"
    }
   ],
   "source": [
    "import pandas as pd\n",
    "import numpy as np\n",
    "\n",
    "dataset = pd.read_csv('package_dataset.csv')\n",
    "dataset.head()"
   ]
  },
  {
   "cell_type": "code",
   "execution_count": 8,
   "id": "ae4b63e2",
   "metadata": {},
   "outputs": [
    {
     "name": "stdout",
     "output_type": "stream",
     "text": [
      "P3    269\n",
      "P2    140\n",
      "P4    109\n",
      "D1     89\n",
      "D2     69\n",
      "R2     54\n",
      "P1     49\n",
      "R1     45\n",
      "D3     42\n",
      "X1     42\n",
      "U1     38\n",
      "C2     26\n",
      "U2     19\n",
      "C1      9\n",
      "Name: status, dtype: int64\n"
     ]
    },
    {
     "data": {
      "image/png": "[encoded data removed]",
      "text/plain": [
       "<Figure size 864x576 with 1 Axes>"
      ]
     },
     "metadata": {
      "needs_background": "light"
     },
     "output_type": "display_data"
    }
   ],
   "source": [
    "# Pinting class quantities\n",
    "print(dataset['status'].value_counts())\n",
    "\n",
    "# Plotting a bar chart showing class distribution\n",
    "dataset['status'].value_counts().plot(kind='bar', title='Bar chart of class distributions', figsize=(12, 8));"
   ]
  }
 ],
 "metadata": {
  "kernelspec": {
   "display_name": "Python 3 (ipykernel)",
   "language": "python",
   "name": "python3"
  },
  "language_info": {
   "codemirror_mode": {
    "name": "ipython",
    "version": 3
   },
   "file_extension": ".py",
   "mimetype": "text/x-python",
   "name": "python",
   "nbconvert_exporter": "python",
   "pygments_lexer": "ipython3",
   "version": "3.9.1"
  }
 },
 "nbformat": 4,
 "nbformat_minor": 5
}
